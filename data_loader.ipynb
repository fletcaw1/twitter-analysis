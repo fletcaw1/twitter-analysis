{
 "cells": [
  {
   "cell_type": "code",
   "execution_count": 36,
   "metadata": {},
   "outputs": [],
   "source": [
    "import zipfile\n",
    "import json\n",
    "import pandas as pd\n",
    "import os\n"
   ]
  },
  {
   "cell_type": "code",
   "execution_count": 37,
   "metadata": {},
   "outputs": [],
   "source": [
    "def extract_tweet_data(json_data):\n",
    "    return {\n",
    "            'created_at' : json_data.get('created_at'),\n",
    "            'id'         : json_data.get('id'),\n",
    "            'text'       : json_data.get('text')\n",
    "            }"
   ]
  },
  {
   "cell_type": "code",
   "execution_count": 38,
   "metadata": {},
   "outputs": [],
   "source": [
    "folder_path = '/Users/fletcaw1/Documents/University/intro-data-science/twitter-analysis/twitter-analysis/TwitterJune2022'"
   ]
  },
  {
   "cell_type": "code",
   "execution_count": 39,
   "metadata": {},
   "outputs": [],
   "source": [
    "tweets_data = []"
   ]
  },
  {
   "cell_type": "code",
   "execution_count": 40,
   "metadata": {},
   "outputs": [
    {
     "name": "stdout",
     "output_type": "stream",
     "text": [
      "Not a zip!\n"
     ]
    }
   ],
   "source": [
    "for file_name in os.listdir(folder_path):\n",
    "    if file_name.endswith('.zip'):\n",
    "        zip_file_path = os.path.join(folder_path, file_name)\n",
    "\n",
    "        with zipfile.ZipFile(zip_file_path, 'r') as zip_ref:\n",
    "\n",
    "            for inner_file_name in zip_ref.namelist():\n",
    "                with zip_ref.open(inner_file_name) as file:\n",
    "                    for line in file:\n",
    "                        json_data = json.loads(line)\n",
    "                        tweet_data = extract_tweet_data(json_data)\n",
    "                        tweets_data.append(tweet_data)\n",
    "    else:\n",
    "        print('Not a zip!')\n",
    "\n"
   ]
  },
  {
   "cell_type": "code",
   "execution_count": null,
   "metadata": {},
   "outputs": [],
   "source": [
    "tweets_df = pd.DataFrame(tweets_data)"
   ]
  },
  {
   "cell_type": "code",
   "execution_count": null,
   "metadata": {},
   "outputs": [
    {
     "data": {
      "text/html": [
       "<div>\n",
       "<style scoped>\n",
       "    .dataframe tbody tr th:only-of-type {\n",
       "        vertical-align: middle;\n",
       "    }\n",
       "\n",
       "    .dataframe tbody tr th {\n",
       "        vertical-align: top;\n",
       "    }\n",
       "\n",
       "    .dataframe thead th {\n",
       "        text-align: right;\n",
       "    }\n",
       "</style>\n",
       "<table border=\"1\" class=\"dataframe\">\n",
       "  <thead>\n",
       "    <tr style=\"text-align: right;\">\n",
       "      <th></th>\n",
       "      <th>created_at</th>\n",
       "      <th>id</th>\n",
       "      <th>text</th>\n",
       "    </tr>\n",
       "  </thead>\n",
       "  <tbody>\n",
       "    <tr>\n",
       "      <th>0</th>\n",
       "      <td>Wed Jun 01 02:00:00 +0000 2022</td>\n",
       "      <td>1531817808899756032</td>\n",
       "      <td>viere! bäm bäm bäm bäm</td>\n",
       "    </tr>\n",
       "    <tr>\n",
       "      <th>1</th>\n",
       "      <td>Wed Jun 01 02:00:00 +0000 2022</td>\n",
       "      <td>1531817809801535489</td>\n",
       "      <td>Wind 1.0 mph NNW. Barometer 1015.2 hPa, Steady...</td>\n",
       "    </tr>\n",
       "    <tr>\n",
       "      <th>2</th>\n",
       "      <td>Wed Jun 01 02:00:01 +0000 2022</td>\n",
       "      <td>1531817815870783488</td>\n",
       "      <td>04:00\\nTemp. 14,2°C App. 15,1°C\\nUmid. 97% \\nP...</td>\n",
       "    </tr>\n",
       "    <tr>\n",
       "      <th>3</th>\n",
       "      <td>Wed Jun 01 02:00:02 +0000 2022</td>\n",
       "      <td>1531817817070354433</td>\n",
       "      <td>ding ding ding ding DONG DONG DONG DONG!!!!</td>\n",
       "    </tr>\n",
       "    <tr>\n",
       "      <th>4</th>\n",
       "      <td>Wed Jun 01 02:00:02 +0000 2022</td>\n",
       "      <td>1531817817460428801</td>\n",
       "      <td>Són les quatre en punt de la nit</td>\n",
       "    </tr>\n",
       "    <tr>\n",
       "      <th>...</th>\n",
       "      <td>...</td>\n",
       "      <td>...</td>\n",
       "      <td>...</td>\n",
       "    </tr>\n",
       "    <tr>\n",
       "      <th>55522</th>\n",
       "      <td>Wed Jun 01 05:59:59 +0000 2022</td>\n",
       "      <td>1531878202871795712</td>\n",
       "      <td>@SessizadamEmir Günaydın 🥰☕</td>\n",
       "    </tr>\n",
       "    <tr>\n",
       "      <th>55523</th>\n",
       "      <td>Wed Jun 01 05:59:59 +0000 2022</td>\n",
       "      <td>1531878202871799810</td>\n",
       "      <td>Sensación de que ha durado más el 2º set del N...</td>\n",
       "    </tr>\n",
       "    <tr>\n",
       "      <th>55524</th>\n",
       "      <td>Wed Jun 01 05:59:59 +0000 2022</td>\n",
       "      <td>1531878204394422274</td>\n",
       "      <td>@Serranillu Surt més, doncs</td>\n",
       "    </tr>\n",
       "    <tr>\n",
       "      <th>55525</th>\n",
       "      <td>Wed Jun 01 05:59:59 +0000 2022</td>\n",
       "      <td>1531878204583165953</td>\n",
       "      <td>Día Nacional del Donante de Órganos y Tejidos</td>\n",
       "    </tr>\n",
       "    <tr>\n",
       "      <th>55526</th>\n",
       "      <td>Wed Jun 01 05:59:59 +0000 2022</td>\n",
       "      <td>1531878205723918336</td>\n",
       "      <td>#Pride - OK, was not expecting that when you t...</td>\n",
       "    </tr>\n",
       "  </tbody>\n",
       "</table>\n",
       "<p>55527 rows × 3 columns</p>\n",
       "</div>"
      ],
      "text/plain": [
       "                           created_at                   id  \\\n",
       "0      Wed Jun 01 02:00:00 +0000 2022  1531817808899756032   \n",
       "1      Wed Jun 01 02:00:00 +0000 2022  1531817809801535489   \n",
       "2      Wed Jun 01 02:00:01 +0000 2022  1531817815870783488   \n",
       "3      Wed Jun 01 02:00:02 +0000 2022  1531817817070354433   \n",
       "4      Wed Jun 01 02:00:02 +0000 2022  1531817817460428801   \n",
       "...                               ...                  ...   \n",
       "55522  Wed Jun 01 05:59:59 +0000 2022  1531878202871795712   \n",
       "55523  Wed Jun 01 05:59:59 +0000 2022  1531878202871799810   \n",
       "55524  Wed Jun 01 05:59:59 +0000 2022  1531878204394422274   \n",
       "55525  Wed Jun 01 05:59:59 +0000 2022  1531878204583165953   \n",
       "55526  Wed Jun 01 05:59:59 +0000 2022  1531878205723918336   \n",
       "\n",
       "                                                    text  \n",
       "0                                 viere! bäm bäm bäm bäm  \n",
       "1      Wind 1.0 mph NNW. Barometer 1015.2 hPa, Steady...  \n",
       "2      04:00\\nTemp. 14,2°C App. 15,1°C\\nUmid. 97% \\nP...  \n",
       "3            ding ding ding ding DONG DONG DONG DONG!!!!  \n",
       "4                       Són les quatre en punt de la nit  \n",
       "...                                                  ...  \n",
       "55522                        @SessizadamEmir Günaydın 🥰☕  \n",
       "55523  Sensación de que ha durado más el 2º set del N...  \n",
       "55524                        @Serranillu Surt més, doncs  \n",
       "55525      Día Nacional del Donante de Órganos y Tejidos  \n",
       "55526  #Pride - OK, was not expecting that when you t...  \n",
       "\n",
       "[55527 rows x 3 columns]"
      ]
     },
     "execution_count": 35,
     "metadata": {},
     "output_type": "execute_result"
    }
   ],
   "source": [
    "tweets_df"
   ]
  }
 ],
 "metadata": {
  "kernelspec": {
   "display_name": "venv",
   "language": "python",
   "name": "python3"
  },
  "language_info": {
   "codemirror_mode": {
    "name": "ipython",
    "version": 3
   },
   "file_extension": ".py",
   "mimetype": "text/x-python",
   "name": "python",
   "nbconvert_exporter": "python",
   "pygments_lexer": "ipython3",
   "version": "3.12.1"
  }
 },
 "nbformat": 4,
 "nbformat_minor": 2
}
